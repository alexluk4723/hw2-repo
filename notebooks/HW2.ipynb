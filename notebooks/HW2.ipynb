{
 "cells": [
  {
   "cell_type": "markdown",
   "id": "25feb737-759f-464b-a290-94169c3c419e",
   "metadata": {},
   "source": [
    "# Блок 1"
   ]
  },
  {
   "cell_type": "code",
   "execution_count": 18,
   "id": "d5d2960b-00a2-4868-b3f5-17e19a282850",
   "metadata": {},
   "outputs": [],
   "source": [
    "import pyspark\n",
    "from pyspark import SparkContext, SparkConf\n",
    "from pyspark.sql import SparkSession\n",
    "from pyspark.sql import functions as f"
   ]
  },
  {
   "cell_type": "code",
   "execution_count": 6,
   "id": "9be981cb-2e0e-414c-b5dd-c22d8c161318",
   "metadata": {},
   "outputs": [
    {
     "name": "stdout",
     "output_type": "stream",
     "text": [
      "Safe mode is OFF\n"
     ]
    }
   ],
   "source": [
    "!hdfs dfsadmin -safemode leave"
   ]
  },
  {
   "cell_type": "code",
   "execution_count": 7,
   "id": "7334975f-3d41-4d04-9eb5-dff124a80da2",
   "metadata": {},
   "outputs": [],
   "source": [
    "conf = SparkConf().set(\"spark.executor.instances\", \"2\").set(\"spark.executor.cores\", \"1\").set(\"spark.executor.memory\", \"1g\")"
   ]
  },
  {
   "cell_type": "code",
   "execution_count": 8,
   "id": "79c5574a-97e6-4444-b6d9-a6c1b8e7590c",
   "metadata": {},
   "outputs": [
    {
     "name": "stderr",
     "output_type": "stream",
     "text": [
      "23/12/15 17:02:40 WARN SparkContext: Another SparkContext is being constructed (or threw an exception in its constructor). This may indicate an error, since only one SparkContext should be running in this JVM (see SPARK-2243). The other SparkContext was created at:\n",
      "org.apache.spark.api.java.JavaSparkContext.<init>(JavaSparkContext.scala:58)\n",
      "sun.reflect.NativeConstructorAccessorImpl.newInstance0(Native Method)\n",
      "sun.reflect.NativeConstructorAccessorImpl.newInstance(NativeConstructorAccessorImpl.java:62)\n",
      "sun.reflect.DelegatingConstructorAccessorImpl.newInstance(DelegatingConstructorAccessorImpl.java:45)\n",
      "java.lang.reflect.Constructor.newInstance(Constructor.java:423)\n",
      "py4j.reflection.MethodInvoker.invoke(MethodInvoker.java:247)\n",
      "py4j.reflection.ReflectionEngine.invoke(ReflectionEngine.java:374)\n",
      "py4j.Gateway.invoke(Gateway.java:238)\n",
      "py4j.commands.ConstructorCommand.invokeConstructor(ConstructorCommand.java:80)\n",
      "py4j.commands.ConstructorCommand.execute(ConstructorCommand.java:69)\n",
      "py4j.ClientServerConnection.waitForCommands(ClientServerConnection.java:182)\n",
      "py4j.ClientServerConnection.run(ClientServerConnection.java:106)\n",
      "java.lang.Thread.run(Thread.java:750)\n",
      "23/12/15 17:02:40 WARN Client: Neither spark.yarn.jars nor spark.yarn.archive is set, falling back to uploading libraries under SPARK_HOME.\n"
     ]
    }
   ],
   "source": [
    "spark = SparkSession.builder.appName(\"lukyanov_spark\").config(conf=conf).master(master=\"yarn\").getOrCreate()"
   ]
  },
  {
   "cell_type": "code",
   "execution_count": 10,
   "id": "74802ab5-e6fd-42c9-bb16-add2df128da9",
   "metadata": {},
   "outputs": [
    {
     "name": "stdout",
     "output_type": "stream",
     "text": [
      "rm: `ml-latest-small': No such file or directory\n"
     ]
    }
   ],
   "source": [
    "!hdfs dfs -rm -r ml-latest-small\n",
    "!hdfs dfs -put ml-latest-small"
   ]
  },
  {
   "cell_type": "code",
   "execution_count": 11,
   "id": "8ac11dac-651c-4275-b387-6f92437a59ca",
   "metadata": {},
   "outputs": [
    {
     "name": "stderr",
     "output_type": "stream",
     "text": [
      "                                                                                \r"
     ]
    }
   ],
   "source": [
    "ratings_df = spark.read.format(\"csv\").option(\"header\", \"True\").load(\"ml-latest-small/ratings.csv\")"
   ]
  },
  {
   "cell_type": "code",
   "execution_count": 12,
   "id": "8af052d4-0216-4015-bc3e-e2a15309d03f",
   "metadata": {},
   "outputs": [
    {
     "name": "stdout",
     "output_type": "stream",
     "text": [
      "+------+-------+------+---------+\n",
      "|userId|movieId|rating|timestamp|\n",
      "+------+-------+------+---------+\n",
      "|     1|      1|   4.0|964982703|\n",
      "|     1|      3|   4.0|964981247|\n",
      "|     1|      6|   4.0|964982224|\n",
      "|     1|     47|   5.0|964983815|\n",
      "|     1|     50|   5.0|964982931|\n",
      "|     1|     70|   3.0|964982400|\n",
      "|     1|    101|   5.0|964980868|\n",
      "|     1|    110|   4.0|964982176|\n",
      "|     1|    151|   5.0|964984041|\n",
      "|     1|    157|   5.0|964984100|\n",
      "+------+-------+------+---------+\n",
      "only showing top 10 rows\n",
      "\n"
     ]
    }
   ],
   "source": [
    "ratings_df.show(10)"
   ]
  },
  {
   "cell_type": "code",
   "execution_count": 13,
   "id": "c7f60798-f9d9-4178-8fa8-2d1c8ae01847",
   "metadata": {},
   "outputs": [
    {
     "name": "stderr",
     "output_type": "stream",
     "text": [
      "                                                                                \r"
     ]
    }
   ],
   "source": [
    "tags_df = spark.read.format(\"csv\").option(\"header\", \"True\").load(\"ml-latest-small/tags.csv\")"
   ]
  },
  {
   "cell_type": "code",
   "execution_count": 14,
   "id": "6a850ec8-43fb-4703-9e19-daae093173a0",
   "metadata": {},
   "outputs": [
    {
     "name": "stdout",
     "output_type": "stream",
     "text": [
      "+------+-------+-----------------+----------+\n",
      "|userId|movieId|              tag| timestamp|\n",
      "+------+-------+-----------------+----------+\n",
      "|     2|  60756|            funny|1445714994|\n",
      "|     2|  60756|  Highly quotable|1445714996|\n",
      "|     2|  60756|     will ferrell|1445714992|\n",
      "|     2|  89774|     Boxing story|1445715207|\n",
      "|     2|  89774|              MMA|1445715200|\n",
      "|     2|  89774|        Tom Hardy|1445715205|\n",
      "|     2| 106782|            drugs|1445715054|\n",
      "|     2| 106782|Leonardo DiCaprio|1445715051|\n",
      "|     2| 106782|  Martin Scorsese|1445715056|\n",
      "|     7|  48516|     way too long|1169687325|\n",
      "+------+-------+-----------------+----------+\n",
      "only showing top 10 rows\n",
      "\n"
     ]
    }
   ],
   "source": [
    "tags_df.show(10)"
   ]
  },
  {
   "cell_type": "code",
   "execution_count": 15,
   "id": "1ea01396-cddd-4f36-89e8-06f258cc4020",
   "metadata": {},
   "outputs": [
    {
     "name": "stdout",
     "output_type": "stream",
     "text": [
      "ratings-count: 100836\n",
      "tags-count: 3683\n"
     ]
    }
   ],
   "source": [
    "print(f'ratings-count: {ratings_df.count()}')\n",
    "print(f'tags-count: {tags_df.count()}')"
   ]
  },
  {
   "cell_type": "markdown",
   "id": "22a280f2-c815-4805-a7df-b2a6c221e24b",
   "metadata": {},
   "source": [
    "# Блок 2"
   ]
  },
  {
   "cell_type": "code",
   "execution_count": 16,
   "id": "3acf9179-5b98-401d-8502-e6da31c5ffc3",
   "metadata": {},
   "outputs": [
    {
     "name": "stdout",
     "output_type": "stream",
     "text": [
      "уникальных фильмов в ratings: 9724\n",
      "уникальных пользователей в ratings: 610\n"
     ]
    }
   ],
   "source": [
    "unique_movies_count = ratings_df.select(\"movieId\").distinct().count()\n",
    "unique_users_count = ratings_df.select(\"userId\").distinct().count()\n",
    "print(f\"уникальных фильмов в ratings: {unique_movies_count}\")\n",
    "print(f\"уникальных пользователей в ratings: {unique_users_count}\")"
   ]
  },
  {
   "cell_type": "code",
   "execution_count": 17,
   "id": "13636a6f-b7e5-4142-92c8-0d0bb5392d02",
   "metadata": {},
   "outputs": [
    {
     "name": "stdout",
     "output_type": "stream",
     "text": [
      "оценок >=4 в ratings: 48580\n"
     ]
    }
   ],
   "source": [
    "ratings4_count = ratings_df.select(\"rating\").filter(\"rating>=4.0\").count()\n",
    "print(f\"оценок >=4 в ratings: {ratings4_count}\")"
   ]
  },
  {
   "cell_type": "code",
   "execution_count": 19,
   "id": "d8bb261e-7b6d-4fa0-8804-a5c24990137c",
   "metadata": {},
   "outputs": [
    {
     "name": "stdout",
     "output_type": "stream",
     "text": [
      "+-------+--------------------+--------------------+\n",
      "|movieId|               title|              genres|\n",
      "+-------+--------------------+--------------------+\n",
      "|      1|    Toy Story (1995)|Adventure|Animati...|\n",
      "|      2|      Jumanji (1995)|Adventure|Childre...|\n",
      "|      3|Grumpier Old Men ...|      Comedy|Romance|\n",
      "|      4|Waiting to Exhale...|Comedy|Drama|Romance|\n",
      "|      5|Father of the Bri...|              Comedy|\n",
      "|      6|         Heat (1995)|Action|Crime|Thri...|\n",
      "|      7|      Sabrina (1995)|      Comedy|Romance|\n",
      "|      8| Tom and Huck (1995)|  Adventure|Children|\n",
      "|      9| Sudden Death (1995)|              Action|\n",
      "|     10|    GoldenEye (1995)|Action|Adventure|...|\n",
      "+-------+--------------------+--------------------+\n",
      "only showing top 10 rows\n",
      "\n"
     ]
    }
   ],
   "source": [
    "movies_df = spark.read.format(\"csv\").option(\"header\", \"True\").load(\"ml-latest-small/movies.csv\")\n",
    "movies_df.show(10)"
   ]
  },
  {
   "cell_type": "code",
   "execution_count": 63,
   "id": "1cda5169-09be-4d2b-830c-dacb0b4581ee",
   "metadata": {},
   "outputs": [
    {
     "name": "stdout",
     "output_type": "stream",
     "text": [
      "Топ-100 лучших фильмов\n",
      "+-------+------------+--------------------+--------------------+\n",
      "|movieId|movie_rating|               title|              genres|\n",
      "+-------+------------+--------------------+--------------------+\n",
      "| 102084|         5.0|Justice League: D...|Action|Animation|...|\n",
      "| 126921|         5.0|The Fox and the H...|Adventure|Animati...|\n",
      "|   5723|         5.0|Continental Divid...|      Comedy|Romance|\n",
      "|    467|         5.0|Live Nude Girls (...|              Comedy|\n",
      "|  95149|         5.0|Superman/Batman: ...|Action|Animation|...|\n",
      "| 140627|         5.0|Battle For Sevast...|   Drama|Romance|War|\n",
      "|    633|         5.0|Denise Calls Up (...|              Comedy|\n",
      "| 147330|         5.0|Sherlock Holmes a...|               Crime|\n",
      "| 103602|         5.0|Craig Ferguson: I...|  Comedy|Documentary|\n",
      "|  96608|         5.0|Runaway Brain (19...|Animation|Comedy|...|\n",
      "| 118270|         5.0|  Hellbenders (2012)|Comedy|Horror|Thr...|\n",
      "|   1349|         5.0|Vampire in Venice...|              Horror|\n",
      "| 147410|         5.0|A Perfect Day (2015)|        Comedy|Drama|\n",
      "|    496|         5.0|What Happened Was...|Comedy|Drama|Roma...|\n",
      "| 136355|         5.0|Big Top Scooby-Do...|Animation|Childre...|\n",
      "| 136341|         5.0|Scooby-Doo! and t...|Animation|Childre...|\n",
      "| 173351|         5.0|Wow! A Talking Fi...|Animation|Childre...|\n",
      "|    495|         5.0|In the Realm of t...|               Drama|\n",
      "| 131724|         5.0|The Jinx: The Lif...|         Documentary|\n",
      "|  47736|         5.0|Chump at Oxford, ...|              Comedy|\n",
      "|   6835|         5.0|Alien Contaminati...|Action|Horror|Sci-Fi|\n",
      "|  69469|         5.0|Garfield's Pet Fo...|           Animation|\n",
      "| 131098|         5.0| Saving Santa (2013)|Animation|Childre...|\n",
      "| 151769|         5.0|Three from Prosto...|           Animation|\n",
      "| 172875|         5.0|A Detective Story...|    Animation|Sci-Fi|\n",
      "|   5745|         5.0|Four Seasons, The...|        Comedy|Drama|\n",
      "|  26147|         5.0|Thousand Clowns, ...|Comedy|Drama|Romance|\n",
      "|  73822|         5.0|     Meantime (1984)|        Comedy|Drama|\n",
      "|   4495|         5.0|Crossing Delancey...|      Comedy|Romance|\n",
      "|    626|         5.0|Thin Line Between...|              Comedy|\n",
      "|   3939|         5.0|Slumber Party Mas...|              Horror|\n",
      "|   3496|         5.0|Madame Sousatzka ...|               Drama|\n",
      "|  44851|         5.0|Go for Zucker! (A...|              Comedy|\n",
      "| 140265|         5.0|George Carlin: Ja...|              Comedy|\n",
      "|  53280|         5.0|   Breed, The (2006)|     Horror|Thriller|\n",
      "| 107951|         5.0|Hunting Elephants...|        Comedy|Crime|\n",
      "| 141718|         5.0|    Deathgasm (2015)|       Comedy|Horror|\n",
      "|  72692|         5.0|Mickey's Once Upo...|Animation|Comedy|...|\n",
      "|  27751|         5.0| 'Salem's Lot (2004)|Drama|Horror|Myst...|\n",
      "| 175397|         5.0|In the blue sea, ...|Animation|Childre...|\n",
      "|    876|         5.0|Supercop 2 (Proje...|Action|Comedy|Cri...|\n",
      "|  26073|         5.0|Human Condition I...|           Drama|War|\n",
      "|  85295|         5.0|Scooby-Doo! Curse...|Adventure|Childre...|\n",
      "| 113829|         5.0|One I Love, The (...|Comedy|Drama|Romance|\n",
      "| 136834|         5.0|The Eye: Infinity...|              Horror|\n",
      "|  86237|         5.0|  Connections (1978)|         Documentary|\n",
      "|  99636|         5.0|English Vinglish ...|        Comedy|Drama|\n",
      "|  25947|         5.0|Unfaithfully Your...|              Comedy|\n",
      "| 128914|         5.0|Tom Segura: Compl...|              Comedy|\n",
      "|  90943|         5.0|Into the Abyss (2...|         Documentary|\n",
      "| 152711|         5.0|Who Killed Chea V...|         Documentary|\n",
      "|  33649|         5.0|  Saving Face (2004)|Comedy|Drama|Romance|\n",
      "| 164367|         5.0|The Girl with All...|Drama|Horror|Sci-...|\n",
      "|  69211|         5.0|Boy Eats Girl (2005)|       Comedy|Horror|\n",
      "| 136556|         5.0|Kung Fu Panda: Se...|  Animation|Children|\n",
      "| 147250|         5.0|The Adventures of...|  (no genres listed)|\n",
      "|  25887|         5.0|Tales of Manhatta...|        Comedy|Drama|\n",
      "| 134004|         5.0| What Love Is (2007)|      Comedy|Romance|\n",
      "|  96935|         5.0|My Left Eye Sees ...|Comedy|Fantasy|Ro...|\n",
      "|     99|         5.0|Heidi Fleiss: Hol...|         Documentary|\n",
      "| 132153|         5.0|      Buzzard (2015)| Comedy|Drama|Horror|\n",
      "| 143559|         5.0| L.A. Slasher (2015)|Comedy|Crime|Fantasy|\n",
      "|  77846|         5.0| 12 Angry Men (1997)|         Crime|Drama|\n",
      "|   5607|         5.0|Son of the Bride ...|        Comedy|Drama|\n",
      "|  45503|         5.0|Peaceful Warrior ...|               Drama|\n",
      "|  50999|         5.0|Ugly Duckling and...|    Animation|Comedy|\n",
      "|   2512|         5.0|Ballad of Narayam...|               Drama|\n",
      "| 142444|         5.0|   The Editor (2015)|Comedy|Horror|Mys...|\n",
      "|   2075|         5.0|     Mephisto (1981)|           Drama|War|\n",
      "|   8580|         5.0|Into the Woods (1...|Adventure|Comedy|...|\n",
      "| 117531|         5.0|    Watermark (2014)|         Documentary|\n",
      "| 162344|         5.0|Tom Segura: Mostl...|              Comedy|\n",
      "| 136850|         5.0|      Villain (1971)|Crime|Drama|Thriller|\n",
      "| 138966|         5.0|Nasu: Summer in A...|           Animation|\n",
      "| 172587|         5.0|Vacations in Pros...|           Animation|\n",
      "| 139640|         5.0|Ooops! Noah is Go...|           Animation|\n",
      "|   4116|         5.0|Hollywood Shuffle...|              Comedy|\n",
      "|   6402|         5.0|  Siam Sunset (1999)|              Comedy|\n",
      "| 109633|         5.0|Garden of Words, ...|   Animation|Romance|\n",
      "| 179133|         5.0|Loving Vincent (2...|Animation|Crime|D...|\n",
      "|   6086|         5.0|  I, the Jury (1982)|Crime|Drama|Thriller|\n",
      "| 131610|         5.0|  Willy/Milly (1986)|      Comedy|Fantasy|\n",
      "|  96430|         5.0|Odd Life of Timot...|Comedy|Drama|Fantasy|\n",
      "|  34312|         5.0|Calcium Kid, The ...|              Comedy|\n",
      "| 149566|         5.0| Unicorn City (2012)|      Comedy|Romance|\n",
      "| 147196|         5.0|    The Girls (1961)|      Comedy|Romance|\n",
      "|  69860|         5.0|     Eichmann (2007)|           Drama|War|\n",
      "|  67618|         5.0|Strictly Sexual (...|Comedy|Drama|Romance|\n",
      "| 162414|         5.0|           Moonlight|               Drama|\n",
      "| 102217|         5.0|Bill Hicks: Revel...|              Comedy|\n",
      "|   6611|         5.0|   Umberto D. (1952)|               Drama|\n",
      "| 136447|         5.0|George Carlin: Yo...|              Comedy|\n",
      "|  72142|         5.0|Love Exposure (Ai...|Action|Comedy|Dra...|\n",
      "|   4402|         5.0|Dr. Goldfoot and ...|              Comedy|\n",
      "|   5416|         5.0|      Cherish (2002)|Comedy|Drama|Thri...|\n",
      "|  64501|         5.0|Che: Part Two (2008)|           Drama|War|\n",
      "|  27373|         5.0|          61* (2001)|               Drama|\n",
      "|  76091|         5.0|Mother (Madeo) (2...|Crime|Drama|Myste...|\n",
      "| 136353|         5.0|Scooby-Doo! and t...|Animation|Childre...|\n",
      "| 130978|         5.0|Love and Pigeons ...|      Comedy|Romance|\n",
      "+-------+------------+--------------------+--------------------+\n",
      "only showing top 100 rows\n",
      "\n"
     ]
    }
   ],
   "source": [
    "top100 = ratings_df\\\n",
    "    .groupBy(f.col(\"movieId\"))\\\n",
    "    .agg(f.avg(\"rating\").alias(\"movie_rating\")) # считаем рейтинг как среднее по всем оценкам\n",
    "top100_names = top100.join(movies_df, on = ['movieId']).orderBy(f.col(\"movie_rating\").desc())\n",
    "print(\"Топ-100 лучших фильмов\")\n",
    "top100_names.show(100)"
   ]
  },
  {
   "cell_type": "code",
   "execution_count": 30,
   "id": "160089a2-06b2-4049-a5f3-a3c2cc1727f5",
   "metadata": {},
   "outputs": [
    {
     "name": "stdout",
     "output_type": "stream",
     "text": [
      "Среднее\n",
      "+----------------------------+\n",
      "|avg((timestamp - timestamp))|\n",
      "+----------------------------+\n",
      "|        2.6243727372266974E7|\n",
      "+----------------------------+\n",
      "\n",
      "Среднее (как большее минус меньшее)\n",
      "+---------------------------------+\n",
      "|avg(abs((timestamp - timestamp)))|\n",
      "+---------------------------------+\n",
      "|             2.9203715568469506E7|\n",
      "+---------------------------------+\n",
      "\n"
     ]
    }
   ],
   "source": [
    "rt_table = ratings_df.join(tags_df, on = [\"userId\", \"movieId\"], how=\"inner\")\n",
    "print(\"Среднее\")\n",
    "res = rt_table.select(f.avg(tags_df['timestamp']-ratings_df['timestamp']))\n",
    "res.show()\n",
    "print(\"Среднее (как большее минус меньшее)\")\n",
    "res = rt_table.select(f.avg(f.abs(tags_df['timestamp']-ratings_df['timestamp'])))\n",
    "res.show()"
   ]
  },
  {
   "cell_type": "code",
   "execution_count": 32,
   "id": "4dd9674b-dfbd-49c8-b9d6-8a4a1b99003c",
   "metadata": {},
   "outputs": [
    {
     "name": "stdout",
     "output_type": "stream",
     "text": [
      "+------+-------------------+\n",
      "|userId|user_average_rating|\n",
      "+------+-------------------+\n",
      "|   296|  4.166666666666667|\n",
      "|   467|  3.409090909090909|\n",
      "|   125|  3.859722222222222|\n",
      "|   451| 3.7941176470588234|\n",
      "|     7| 3.2302631578947367|\n",
      "|    51| 3.7757660167130918|\n",
      "|   124|               3.99|\n",
      "|   447|  3.871794871794872|\n",
      "|   591| 3.2777777777777777|\n",
      "|   307| 2.6656410256410257|\n",
      "|   475|  4.409677419354839|\n",
      "|   574| 3.9565217391304346|\n",
      "|   169|   4.24907063197026|\n",
      "|   205| 3.8703703703703702|\n",
      "|   334|  3.418831168831169|\n",
      "|   544|  4.363636363636363|\n",
      "|   577| 3.5652173913043477|\n",
      "|   581|              4.375|\n",
      "|   272|  3.629032258064516|\n",
      "|   442|              1.275|\n",
      "+------+-------------------+\n",
      "only showing top 20 rows\n",
      "\n"
     ]
    }
   ],
   "source": [
    "res = ratings_df.groupBy(\"userId\").agg(f.avg(\"rating\").alias(\"user_average_rating\"))\n",
    "#res = res.join('users', on = ['userId'])\n",
    "res.show()"
   ]
  },
  {
   "cell_type": "code",
   "execution_count": 33,
   "id": "64a3dcfe-3116-45bd-89f4-f0ae3570090c",
   "metadata": {},
   "outputs": [
    {
     "name": "stdout",
     "output_type": "stream",
     "text": [
      "+------------------------+\n",
      "|avg(user_average_rating)|\n",
      "+------------------------+\n",
      "|      3.6572223377474007|\n",
      "+------------------------+\n",
      "\n"
     ]
    }
   ],
   "source": [
    "# среднее по средним\n",
    "res.select(f.avg(\"user_average_rating\")).show()"
   ]
  },
  {
   "cell_type": "markdown",
   "id": "9183ecbd-106b-4ca4-bd8e-b4d82a6d250c",
   "metadata": {},
   "source": [
    "# Блок 3"
   ]
  },
  {
   "cell_type": "code",
   "execution_count": 44,
   "id": "cbc2c88e-1a15-4765-966d-42ed735475a1",
   "metadata": {},
   "outputs": [],
   "source": [
    "import pandas as pd\n",
    "from sklearn.linear_model import SGDRegressor\n",
    "from sklearn.feature_extraction.text import TfidfVectorizer\n",
    "from pyspark.sql.types import *"
   ]
  },
  {
   "cell_type": "code",
   "execution_count": 45,
   "id": "7ba760a6-1560-47d3-9d20-3de7d51ee34c",
   "metadata": {},
   "outputs": [],
   "source": [
    "tags = tags_df.toPandas()\n",
    "ratings = ratings_df.toPandas()\n",
    "ratings_tags = rt_table.toPandas()"
   ]
  },
  {
   "cell_type": "code",
   "execution_count": 46,
   "id": "82e333f1-7117-4abf-996a-a5e71fd0a659",
   "metadata": {},
   "outputs": [
    {
     "data": {
      "text/html": [
       "<div>\n",
       "<style scoped>\n",
       "    .dataframe tbody tr th:only-of-type {\n",
       "        vertical-align: middle;\n",
       "    }\n",
       "\n",
       "    .dataframe tbody tr th {\n",
       "        vertical-align: top;\n",
       "    }\n",
       "\n",
       "    .dataframe thead th {\n",
       "        text-align: right;\n",
       "    }\n",
       "</style>\n",
       "<table border=\"1\" class=\"dataframe\">\n",
       "  <thead>\n",
       "    <tr style=\"text-align: right;\">\n",
       "      <th></th>\n",
       "      <th>userId</th>\n",
       "      <th>movieId</th>\n",
       "      <th>rating</th>\n",
       "      <th>timestamp</th>\n",
       "      <th>tag</th>\n",
       "      <th>timestamp</th>\n",
       "    </tr>\n",
       "  </thead>\n",
       "  <tbody>\n",
       "    <tr>\n",
       "      <th>0</th>\n",
       "      <td>2</td>\n",
       "      <td>60756</td>\n",
       "      <td>5.0</td>\n",
       "      <td>1445714980</td>\n",
       "      <td>will ferrell</td>\n",
       "      <td>1445714992</td>\n",
       "    </tr>\n",
       "    <tr>\n",
       "      <th>1</th>\n",
       "      <td>2</td>\n",
       "      <td>60756</td>\n",
       "      <td>5.0</td>\n",
       "      <td>1445714980</td>\n",
       "      <td>Highly quotable</td>\n",
       "      <td>1445714996</td>\n",
       "    </tr>\n",
       "    <tr>\n",
       "      <th>2</th>\n",
       "      <td>2</td>\n",
       "      <td>60756</td>\n",
       "      <td>5.0</td>\n",
       "      <td>1445714980</td>\n",
       "      <td>funny</td>\n",
       "      <td>1445714994</td>\n",
       "    </tr>\n",
       "    <tr>\n",
       "      <th>3</th>\n",
       "      <td>2</td>\n",
       "      <td>89774</td>\n",
       "      <td>5.0</td>\n",
       "      <td>1445715189</td>\n",
       "      <td>Tom Hardy</td>\n",
       "      <td>1445715205</td>\n",
       "    </tr>\n",
       "    <tr>\n",
       "      <th>4</th>\n",
       "      <td>2</td>\n",
       "      <td>89774</td>\n",
       "      <td>5.0</td>\n",
       "      <td>1445715189</td>\n",
       "      <td>MMA</td>\n",
       "      <td>1445715200</td>\n",
       "    </tr>\n",
       "  </tbody>\n",
       "</table>\n",
       "</div>"
      ],
      "text/plain": [
       "  userId movieId rating   timestamp              tag   timestamp\n",
       "0      2   60756    5.0  1445714980     will ferrell  1445714992\n",
       "1      2   60756    5.0  1445714980  Highly quotable  1445714996\n",
       "2      2   60756    5.0  1445714980            funny  1445714994\n",
       "3      2   89774    5.0  1445715189        Tom Hardy  1445715205\n",
       "4      2   89774    5.0  1445715189              MMA  1445715200"
      ]
     },
     "execution_count": 46,
     "metadata": {},
     "output_type": "execute_result"
    }
   ],
   "source": [
    "ratings_tags.head()"
   ]
  },
  {
   "cell_type": "code",
   "execution_count": 47,
   "id": "3ce065f7-55de-4739-ab07-35b2aea23802",
   "metadata": {},
   "outputs": [],
   "source": [
    "tfidfVectorizer = TfidfVectorizer()\n",
    "vectorized_tags = tfidfVectorizer.fit_transform(ratings_tags[\"tag\"])"
   ]
  },
  {
   "cell_type": "code",
   "execution_count": 48,
   "id": "8945e83f-2bc8-4fa9-aceb-184200f4e6ef",
   "metadata": {},
   "outputs": [
    {
     "data": {
      "text/html": [
       "<style>#sk-container-id-2 {color: black;}#sk-container-id-2 pre{padding: 0;}#sk-container-id-2 div.sk-toggleable {background-color: white;}#sk-container-id-2 label.sk-toggleable__label {cursor: pointer;display: block;width: 100%;margin-bottom: 0;padding: 0.3em;box-sizing: border-box;text-align: center;}#sk-container-id-2 label.sk-toggleable__label-arrow:before {content: \"▸\";float: left;margin-right: 0.25em;color: #696969;}#sk-container-id-2 label.sk-toggleable__label-arrow:hover:before {color: black;}#sk-container-id-2 div.sk-estimator:hover label.sk-toggleable__label-arrow:before {color: black;}#sk-container-id-2 div.sk-toggleable__content {max-height: 0;max-width: 0;overflow: hidden;text-align: left;background-color: #f0f8ff;}#sk-container-id-2 div.sk-toggleable__content pre {margin: 0.2em;color: black;border-radius: 0.25em;background-color: #f0f8ff;}#sk-container-id-2 input.sk-toggleable__control:checked~div.sk-toggleable__content {max-height: 200px;max-width: 100%;overflow: auto;}#sk-container-id-2 input.sk-toggleable__control:checked~label.sk-toggleable__label-arrow:before {content: \"▾\";}#sk-container-id-2 div.sk-estimator input.sk-toggleable__control:checked~label.sk-toggleable__label {background-color: #d4ebff;}#sk-container-id-2 div.sk-label input.sk-toggleable__control:checked~label.sk-toggleable__label {background-color: #d4ebff;}#sk-container-id-2 input.sk-hidden--visually {border: 0;clip: rect(1px 1px 1px 1px);clip: rect(1px, 1px, 1px, 1px);height: 1px;margin: -1px;overflow: hidden;padding: 0;position: absolute;width: 1px;}#sk-container-id-2 div.sk-estimator {font-family: monospace;background-color: #f0f8ff;border: 1px dotted black;border-radius: 0.25em;box-sizing: border-box;margin-bottom: 0.5em;}#sk-container-id-2 div.sk-estimator:hover {background-color: #d4ebff;}#sk-container-id-2 div.sk-parallel-item::after {content: \"\";width: 100%;border-bottom: 1px solid gray;flex-grow: 1;}#sk-container-id-2 div.sk-label:hover label.sk-toggleable__label {background-color: #d4ebff;}#sk-container-id-2 div.sk-serial::before {content: \"\";position: absolute;border-left: 1px solid gray;box-sizing: border-box;top: 0;bottom: 0;left: 50%;z-index: 0;}#sk-container-id-2 div.sk-serial {display: flex;flex-direction: column;align-items: center;background-color: white;padding-right: 0.2em;padding-left: 0.2em;position: relative;}#sk-container-id-2 div.sk-item {position: relative;z-index: 1;}#sk-container-id-2 div.sk-parallel {display: flex;align-items: stretch;justify-content: center;background-color: white;position: relative;}#sk-container-id-2 div.sk-item::before, #sk-container-id-2 div.sk-parallel-item::before {content: \"\";position: absolute;border-left: 1px solid gray;box-sizing: border-box;top: 0;bottom: 0;left: 50%;z-index: -1;}#sk-container-id-2 div.sk-parallel-item {display: flex;flex-direction: column;z-index: 1;position: relative;background-color: white;}#sk-container-id-2 div.sk-parallel-item:first-child::after {align-self: flex-end;width: 50%;}#sk-container-id-2 div.sk-parallel-item:last-child::after {align-self: flex-start;width: 50%;}#sk-container-id-2 div.sk-parallel-item:only-child::after {width: 0;}#sk-container-id-2 div.sk-dashed-wrapped {border: 1px dashed gray;margin: 0 0.4em 0.5em 0.4em;box-sizing: border-box;padding-bottom: 0.4em;background-color: white;}#sk-container-id-2 div.sk-label label {font-family: monospace;font-weight: bold;display: inline-block;line-height: 1.2em;}#sk-container-id-2 div.sk-label-container {text-align: center;}#sk-container-id-2 div.sk-container {/* jupyter's `normalize.less` sets `[hidden] { display: none; }` but bootstrap.min.css set `[hidden] { display: none !important; }` so we also need the `!important` here to be able to override the default hidden behavior on the sphinx rendered scikit-learn.org. See: https://github.com/scikit-learn/scikit-learn/issues/21755 */display: inline-block !important;position: relative;}#sk-container-id-2 div.sk-text-repr-fallback {display: none;}</style><div id=\"sk-container-id-2\" class=\"sk-top-container\"><div class=\"sk-text-repr-fallback\"><pre>SGDRegressor()</pre><b>In a Jupyter environment, please rerun this cell to show the HTML representation or trust the notebook. <br />On GitHub, the HTML representation is unable to render, please try loading this page with nbviewer.org.</b></div><div class=\"sk-container\" hidden><div class=\"sk-item\"><div class=\"sk-estimator sk-toggleable\"><input class=\"sk-toggleable__control sk-hidden--visually\" id=\"sk-estimator-id-2\" type=\"checkbox\" checked><label for=\"sk-estimator-id-2\" class=\"sk-toggleable__label sk-toggleable__label-arrow\">SGDRegressor</label><div class=\"sk-toggleable__content\"><pre>SGDRegressor()</pre></div></div></div></div></div>"
      ],
      "text/plain": [
       "SGDRegressor()"
      ]
     },
     "execution_count": 48,
     "metadata": {},
     "output_type": "execute_result"
    }
   ],
   "source": [
    "model = SGDRegressor()\n",
    "model.fit(X=vectorized_tags, y=ratings_tags[\"rating\"])"
   ]
  },
  {
   "cell_type": "code",
   "execution_count": 59,
   "id": "f71a2d6d-daf7-4c22-8059-99bb9878d631",
   "metadata": {},
   "outputs": [],
   "source": [
    "@f.udf(DoubleType())\n",
    "def get_rating_prediction(tag): \n",
    "    return model.predict(tfidfVectorizer.transform([tag])).item()\n",
    "\n",
    "res = rt_table.withColumn(\"rating_prediction\", get_rating_prediction(\"tag\"))"
   ]
  },
  {
   "cell_type": "code",
   "execution_count": 60,
   "id": "617781f0-9616-4d4f-b13a-99cb0806b2db",
   "metadata": {},
   "outputs": [
    {
     "name": "stdout",
     "output_type": "stream",
     "text": [
      "+------+-------+------+----------+--------------------+----------+------------------+\n",
      "|userId|movieId|rating| timestamp|                 tag| timestamp| rating_prediction|\n",
      "+------+-------+------+----------+--------------------+----------+------------------+\n",
      "|     2|  60756|   5.0|1445714980|        will ferrell|1445714992| 4.030629163996057|\n",
      "|     2|  60756|   5.0|1445714980|     Highly quotable|1445714996|3.9549035156673655|\n",
      "|     2|  60756|   5.0|1445714980|               funny|1445714994| 4.367005879032952|\n",
      "|     2|  89774|   5.0|1445715189|           Tom Hardy|1445715205|3.8352641694269183|\n",
      "|     2|  89774|   5.0|1445715189|                 MMA|1445715200| 3.421944591622135|\n",
      "|     2|  89774|   5.0|1445715189|        Boxing story|1445715207|3.9309767156208695|\n",
      "|     2| 106782|   5.0|1445714966|     Martin Scorsese|1445715056|3.8485335925683386|\n",
      "|     2| 106782|   5.0|1445714966|   Leonardo DiCaprio|1445715051| 4.239562115250214|\n",
      "|     2| 106782|   5.0|1445714966|               drugs|1445715054| 4.300946593230146|\n",
      "|     7|  48516|   1.0|1169687318|        way too long|1169687325| 3.427850694856553|\n",
      "|    18|    431|   4.0|1462138790|               mafia|1462138755| 4.160194000213509|\n",
      "|    18|    431|   4.0|1462138790|            gangster|1462138749|3.6286756104314626|\n",
      "|    18|    431|   4.0|1462138790|           Al Pacino|1462138765| 3.859181794530736|\n",
      "|    18|   1221|   5.0|1460242083|               Mafia|1461699303| 4.160194000213509|\n",
      "|    18|   1221|   5.0|1460242083|           Al Pacino|1461699306| 3.859181794530736|\n",
      "|    18|   5995|   4.5|1455735416|          true story|1455735479| 3.850869956057608|\n",
      "|    18|   5995|   4.5|1455735416|           holocaust|1455735472|3.9854955915922847|\n",
      "|    18|  44665|   4.5|1455049870|        twist ending|1456948283| 4.838190125386681|\n",
      "|    18|  52604|   4.5|1457650649|        twist ending|1457650682| 4.838190125386681|\n",
      "|    18|  52604|   4.5|1457650649|     courtroom drama|1457650711| 3.842323582172296|\n",
      "|    18|  52604|   4.5|1457650649|     Anthony Hopkins|1457650696| 3.382522512343742|\n",
      "|    18|  88094|   3.0|1457352482|               music|1457444609| 4.293651237011992|\n",
      "|    18|  88094|   3.0|1457352482|  indie record label|1457444592|3.2768104892257246|\n",
      "|    18|  88094|   3.0|1457352482|             britpop|1457444500| 3.270308139087334|\n",
      "|    18| 144210|   4.0|1455060282|      Sustainability|1455060452| 3.347530098886995|\n",
      "|    18| 144210|   4.0|1455060282|     dumpster diving|1455060381|3.3472145774181747|\n",
      "|    21| 119141|   0.5|1419793939|              bloody|1419793962|3.5384193755870754|\n",
      "|    49| 109487|   4.5|1493093231|         time-travel|1493093356| 4.232308812915155|\n",
      "|    49| 109487|   4.5|1493093231|              sci-fi|1493093332| 4.296503308877305|\n",
      "|    49| 109487|   4.5|1493093231|          black hole|1493093306|3.8595650292301893|\n",
      "|    62|      2|   4.0|1528843890|      Robin Williams|1528843907|3.7028009310051457|\n",
      "|    62|      2|   4.0|1528843890|    magic board game|1528843932|3.7491013406724165|\n",
      "|    62|      2|   4.0|1528843890|             fantasy|1528843929| 3.935669000978554|\n",
      "|    62|    110|   4.5|1521822303|         sword fight|1528152535|3.3837474107346046|\n",
      "|    62|    110|   4.5|1521822303|             revenge|1528152531| 4.179152592778196|\n",
      "|    62|    110|   4.5|1521822303|Oscar (Best Cinem...|1528152539| 4.336876930074957|\n",
      "|    62|    110|   4.5|1521822303|          mel gibson|1528152521|3.4214521312343638|\n",
      "|    62|    110|   4.5|1521822303|            Medieval|1528152528|3.3897823895308337|\n",
      "|    62|    110|   4.5|1521822303|       inspirational|1528152527|3.8064513486223492|\n",
      "|    62|    110|   4.5|1521822303|          historical|1528152523|3.3831844278665852|\n",
      "|    62|    110|   4.5|1521822303|                epic|1528152532| 3.971713187785113|\n",
      "|    62|    110|   4.5|1521822303|   beautiful scenery|1528152541| 3.998420097654537|\n",
      "|    62|    410|   4.5|1525636601|              gothic|1525636609|3.8583029003298246|\n",
      "|    62|    410|   4.5|1525636601|              family|1525636708|  4.11330343386164|\n",
      "|    62|    410|   4.5|1525636601|         dark comedy|1525636610| 4.894526007805304|\n",
      "|    62|    410|   4.5|1525636601|   Christopher Lloyd|1525636622|3.7439354867260524|\n",
      "|    62|    410|   4.5|1525636601|     Christina Ricci|1525636685|   3.5663230889011|\n",
      "|    62|    410|   4.5|1525636601|        black comedy|1525636607|4.6406792445492755|\n",
      "|    62|   2023|   5.0|1525636725|               mafia|1525636733| 4.160194000213509|\n",
      "|    62|   2023|   5.0|1525636725|Francis Ford Coppola|1525636752|3.5385117786183424|\n",
      "+------+-------+------+----------+--------------------+----------+------------------+\n",
      "only showing top 50 rows\n",
      "\n"
     ]
    }
   ],
   "source": [
    "res.show(50)"
   ]
  },
  {
   "cell_type": "code",
   "execution_count": null,
   "id": "179ce2fb-571c-4132-8be0-80d356e3c2c5",
   "metadata": {},
   "outputs": [],
   "source": []
  }
 ],
 "metadata": {
  "kernelspec": {
   "display_name": "Python 3 (ipykernel)",
   "language": "python",
   "name": "python3"
  },
  "language_info": {
   "codemirror_mode": {
    "name": "ipython",
    "version": 3
   },
   "file_extension": ".py",
   "mimetype": "text/x-python",
   "name": "python",
   "nbconvert_exporter": "python",
   "pygments_lexer": "ipython3",
   "version": "3.10.12"
  }
 },
 "nbformat": 4,
 "nbformat_minor": 5
}
